{
 "cells": [
  {
   "cell_type": "markdown",
   "metadata": {},
   "source": [
    "## 受講される方へ\n",
    "* 個人PCの持ち込みを必須とさせてください. \n",
    "* Numpy, Scipy, Matplotlib, Jupyterノートブックはインストール済みであるとします. 個人的にはAnacondaがお勧めです. \n",
    "* 上記のセットアップが難しい場合, 少し早めに会場に来て頂ければお手伝いできるかもしれません. \n",
    "* Pythonは未経験でも構いませんが, その他の標準的なプログラミング言語(C, Java, Rubyなど)の経験は前提とします. \n",
    "* 数式を確認するため, 紙とペンの準備を推奨します. \n",
    "\n",
    "## 参考資料\n",
    "* 本ノートブックに目を通しておくと良いかもしれません（演習の必要がなくなりそうですが）. \n",
    "* 教科書等は特にありませんが, 私が分かりやすいと思った資料を挙げます. \n",
    "\n",
    "    - 「多変量正規分布 分散分析第9回講義」土居正明 http://www012.upp.so-net.ne.jp/doi/math/anova/m_normal.pdf\n",
    "    - 「点推定と最尤原理」浅野 晃 http://racco.mikeneko.jp/Kougi/10a/IS/IS08pr.pdf\n",
    "\n",
    "## Jupyterノートブックの使用方法\n",
    "* コンソールで以下のように入力すると, ノートブックサーバーが起動します. \n",
    "\n",
    "```\n",
    "jupyter notebook --notebook-dir=~/Download\n",
    "```\n",
    "\n",
    "* すると, 自動的にブラウザ内にノートブックブラウザが表示され, オプション```--notebook-dir```で指定したディレクトリの中身が表示されます. \n",
    "* 本ノートブックをダウンロードし, 上記のノートブックブラウザで開きます. \n",
    "* ノートブックの各セルの内容を実行するときは```Shift + Enter```を押します. \n",
    "\n",
    "## 本演習の内容\n",
    "本演習では以下のことを学びます. \n",
    "* Numpyの基礎\n",
    "* プロットの基礎\n",
    "* ベルヌーイ分布からの乱数の生成\n",
    "* 最尤推定の勾配法による実装\n",
    "* 多変量正規分布からの乱数の生成\n",
    "* 確率密度関数のプロット\n",
    "* サンプルに基づく統計量の計算\n",
    "\n",
    "## 日程\n",
    "* 上記の内容を7月と8月の二回に分けて行います. \n",
    "* それぞれ1時間半から2時間を想定しています. \n",
    "\n",
    "## その他\n",
    "* 内容が簡単だと思われた方は, そうでない方を積極的にサポートして頂ければありがたいです. \n",
    "* このノートブックは演習開始までに更新するかもしれないので, 時々チェックしてください. "
   ]
  },
  {
   "cell_type": "markdown",
   "metadata": {},
   "source": [
    "## 初期設定"
   ]
  },
  {
   "cell_type": "code",
   "execution_count": 2,
   "metadata": {
    "collapsed": false
   },
   "outputs": [],
   "source": [
    "# 図をインラインで表示するように指定します. \n",
    "%matplotlib inline \n",
    "\n",
    "import numpy as np # Numpyモジュールをインポートします. as以降でnpという別名を与えます.\n",
    "import matplotlib.pyplot as plt # Matplotlibモジュールをインポートします. pltという別名を与えます. \n",
    "import seaborn as sns # 図を綺麗に表示するモジュールです. このモジュールは省略できます. "
   ]
  },
  {
   "cell_type": "markdown",
   "metadata": {},
   "source": [
    "## Numpyの基礎"
   ]
  },
  {
   "cell_type": "markdown",
   "metadata": {},
   "source": [
    "### 1次元配列 (ベクトル)"
   ]
  },
  {
   "cell_type": "code",
   "execution_count": 3,
   "metadata": {
    "collapsed": false
   },
   "outputs": [
    {
     "name": "stdout",
     "output_type": "stream",
     "text": [
      "[1 2 3 4]\n",
      "int64\n",
      "<class 'numpy.ndarray'>\n",
      "(4,)\n",
      "1\n",
      "['T', '__abs__', '__add__', '__and__', '__array__', '__array_finalize__', '__array_interface__', '__array_prepare__', '__array_priority__', '__array_struct__', '__array_wrap__', '__bool__', '__class__', '__contains__', '__copy__', '__deepcopy__', '__delattr__', '__delitem__', '__dir__', '__divmod__', '__doc__', '__eq__', '__float__', '__floordiv__', '__format__', '__ge__', '__getattribute__', '__getitem__', '__gt__', '__hash__', '__iadd__', '__iand__', '__ifloordiv__', '__ilshift__', '__imatmul__', '__imod__', '__imul__', '__index__', '__init__', '__int__', '__invert__', '__ior__', '__ipow__', '__irshift__', '__isub__', '__iter__', '__itruediv__', '__ixor__', '__le__', '__len__', '__lshift__', '__lt__', '__matmul__', '__mod__', '__mul__', '__ne__', '__neg__', '__new__', '__or__', '__pos__', '__pow__', '__radd__', '__rand__', '__rdivmod__', '__reduce__', '__reduce_ex__', '__repr__', '__rfloordiv__', '__rlshift__', '__rmatmul__', '__rmod__', '__rmul__', '__ror__', '__rpow__', '__rrshift__', '__rshift__', '__rsub__', '__rtruediv__', '__rxor__', '__setattr__', '__setitem__', '__setstate__', '__sizeof__', '__str__', '__sub__', '__subclasshook__', '__truediv__', '__xor__', 'all', 'any', 'argmax', 'argmin', 'argpartition', 'argsort', 'astype', 'base', 'byteswap', 'choose', 'clip', 'compress', 'conj', 'conjugate', 'copy', 'ctypes', 'cumprod', 'cumsum', 'data', 'diagonal', 'dot', 'dtype', 'dump', 'dumps', 'fill', 'flags', 'flat', 'flatten', 'getfield', 'imag', 'item', 'itemset', 'itemsize', 'max', 'mean', 'min', 'nbytes', 'ndim', 'newbyteorder', 'nonzero', 'partition', 'prod', 'ptp', 'put', 'ravel', 'real', 'repeat', 'reshape', 'resize', 'round', 'searchsorted', 'setfield', 'setflags', 'shape', 'size', 'sort', 'squeeze', 'std', 'strides', 'sum', 'swapaxes', 'take', 'tobytes', 'tofile', 'tolist', 'tostring', 'trace', 'transpose', 'var', 'view']\n"
     ]
    }
   ],
   "source": [
    "a = np.array([1, 2, 3, 4])\n",
    "print(a) # 中身を表示します. \n",
    "print(a.dtype) # 中に入っている数値型\n",
    "print(type(a)) # 配列自身の型\n",
    "print(a.shape) # 配列の形 (タプルなので次元が1の場合は最後にカンマが付きます)\n",
    "print(a.ndim) # 配列の次元\n",
    "print(dir(a)) # 1次元配列オブジェクトが持つ属性（メソッドも含まれます）"
   ]
  },
  {
   "cell_type": "markdown",
   "metadata": {},
   "source": [
    "#### 数値型の変換"
   ]
  },
  {
   "cell_type": "code",
   "execution_count": 4,
   "metadata": {
    "collapsed": false
   },
   "outputs": [
    {
     "name": "stdout",
     "output_type": "stream",
     "text": [
      "[ 1.  2.  3.  4.]\n",
      "float32\n",
      "[1 2 3 4]\n",
      "[ 100.    2.    3.    4.]\n"
     ]
    }
   ],
   "source": [
    "a = np.array([1, 2, 3, 4])\n",
    "b = a.astype('float32')\n",
    "print(b)\n",
    "print(b.dtype)\n",
    "\n",
    "b[0] = 100\n",
    "print(a)\n",
    "print(b) # bはaのディープコピーです. "
   ]
  },
  {
   "cell_type": "markdown",
   "metadata": {},
   "source": [
    "#### 転置"
   ]
  },
  {
   "cell_type": "code",
   "execution_count": 5,
   "metadata": {
    "collapsed": false
   },
   "outputs": [
    {
     "name": "stdout",
     "output_type": "stream",
     "text": [
      "[1 2 3 4]\n",
      "(4,)\n",
      "[100   2   3   4]\n",
      "[100   2   3   4]\n"
     ]
    }
   ],
   "source": [
    "# 1次元配列に対する転置は何もしません. \n",
    "a = np.array([1, 2, 3, 4])\n",
    "b = a.T\n",
    "print(b)\n",
    "print(b.shape)\n",
    "\n",
    "b[0] = 100\n",
    "print(a) # bはaのビュー(シャローコピー)です. \n",
    "print(b) "
   ]
  },
  {
   "cell_type": "markdown",
   "metadata": {},
   "source": [
    "#### 統計量"
   ]
  },
  {
   "cell_type": "code",
   "execution_count": 6,
   "metadata": {
    "collapsed": false
   },
   "outputs": [
    {
     "name": "stdout",
     "output_type": "stream",
     "text": [
      "10\n",
      "2.5\n",
      "1.11803398875\n",
      "1\n",
      "4\n"
     ]
    }
   ],
   "source": [
    "a = np.array([1, 2, 3, 4])\n",
    "print(a.sum()) # 和\n",
    "print(a.mean()) # 平均\n",
    "print(a.std()) # 標準偏差\n",
    "print(a.min()) # 最小値\n",
    "print(a.max()) # 最大値"
   ]
  },
  {
   "cell_type": "markdown",
   "metadata": {},
   "source": [
    "#### インデックスの取得"
   ]
  },
  {
   "cell_type": "code",
   "execution_count": 7,
   "metadata": {
    "collapsed": false
   },
   "outputs": [
    {
     "name": "stdout",
     "output_type": "stream",
     "text": [
      "0\n",
      "3\n"
     ]
    }
   ],
   "source": [
    "a = np.array([1, 2, 3, 4])\n",
    "print(a.argmin()) # 最小値のインデックス\n",
    "print(a.argmax()) # 最大値のインデックス\n",
    "assert(a[a.argmin()] == a.min())\n",
    "assert(a[a.argmax()] == a.max())"
   ]
  },
  {
   "cell_type": "markdown",
   "metadata": {},
   "source": [
    "#### 加減乗除"
   ]
  },
  {
   "cell_type": "code",
   "execution_count": 28,
   "metadata": {
    "collapsed": false
   },
   "outputs": [
    {
     "name": "stdout",
     "output_type": "stream",
     "text": [
      "[ 6  8 10]\n",
      "[-4 -4 -4]\n",
      "[ 5 12 21]\n",
      "[ 0.2         0.33333333  0.42857143]\n"
     ]
    }
   ],
   "source": [
    "# 加減乗除はベクトルの成分ごとに適用されます. \n",
    "a = np.array([1, 2, 3])\n",
    "b = np.array([5, 6, 7])\n",
    "print(a + b)\n",
    "print(a - b)\n",
    "print(a * b)\n",
    "print(a / b)"
   ]
  },
  {
   "cell_type": "markdown",
   "metadata": {},
   "source": [
    "#### 内積"
   ]
  },
  {
   "cell_type": "code",
   "execution_count": 23,
   "metadata": {
    "collapsed": false
   },
   "outputs": [
    {
     "name": "stdout",
     "output_type": "stream",
     "text": [
      "38\n",
      "38\n"
     ]
    }
   ],
   "source": [
    "a = np.array([1, 2, 3])\n",
    "b = np.array([5, 6, 7])\n",
    "print(a.dot(b))\n",
    "print(a[0] * b[0] + a[1] * b[1] + a[2] * b[2]) # 内積の定義と一致することを確認します. "
   ]
  },
  {
   "cell_type": "markdown",
   "metadata": {},
   "source": [
    "#### 配列生成用関数"
   ]
  },
  {
   "cell_type": "code",
   "execution_count": 38,
   "metadata": {
    "collapsed": false
   },
   "outputs": [
    {
     "name": "stdout",
     "output_type": "stream",
     "text": [
      "[0 1 2 3 4 5 6 7 8 9]\n",
      "[ 5  7  9 11 13]\n",
      "[ 0.  0.  0.]\n",
      "[ 1.  1.  1.]\n"
     ]
    }
   ],
   "source": [
    "print(np.arange(10)) # 10が含まれないことに注意します. \n",
    "print(np.arange(5, 15, 2))\n",
    "print(np.zeros(3))\n",
    "print(np.ones(3))"
   ]
  },
  {
   "cell_type": "markdown",
   "metadata": {},
   "source": [
    "#### スライス"
   ]
  },
  {
   "cell_type": "code",
   "execution_count": 33,
   "metadata": {
    "collapsed": false
   },
   "outputs": [
    {
     "name": "stdout",
     "output_type": "stream",
     "text": [
      "[0 1 2 3]\n",
      "[4 5 6 7 8 9]\n",
      "[6 7 8 9]\n",
      "[0 2 4 6 8]\n"
     ]
    }
   ],
   "source": [
    "a = np.arange(10)\n",
    "print(a[:4]) # 最初の4成分\n",
    "print(a[4:]) # 最初の4成分以降\n",
    "print(a[-4:]) # 最後の4成分\n",
    "print(a[::2]) # 2つずつ飛ばす. "
   ]
  },
  {
   "cell_type": "markdown",
   "metadata": {},
   "source": [
    "### 2次元配列 (行列)"
   ]
  },
  {
   "cell_type": "code",
   "execution_count": 37,
   "metadata": {
    "collapsed": false
   },
   "outputs": [
    {
     "name": "stdout",
     "output_type": "stream",
     "text": [
      "[[ 1  2  3  4]\n",
      " [ 5  6  7  8]\n",
      " [ 9 10 11 12]]\n",
      "(3, 4)\n",
      "2\n"
     ]
    }
   ],
   "source": [
    "a = np.array([[1, 2, 3, 4], \n",
    "              [5, 6, 7, 8], \n",
    "              [9, 10, 11, 12]]) # リストのリストを引数に与えます. \n",
    "print(a)\n",
    "print(a.shape) # 1次元の場合と同じくタプルです. \n",
    "print(a.ndim)"
   ]
  },
  {
   "cell_type": "markdown",
   "metadata": {},
   "source": [
    "#### 1次元配列と2次元配列の間の変換"
   ]
  },
  {
   "cell_type": "code",
   "execution_count": 40,
   "metadata": {
    "collapsed": false
   },
   "outputs": [
    {
     "name": "stdout",
     "output_type": "stream",
     "text": [
      "[ 1  2  3  4  5  6  7  8  9 10 11 12]\n",
      "[[ 1  2  3  4]\n",
      " [ 5  6  7  8]\n",
      " [ 9 10 11 12]]\n",
      "[ 1  2  3  4  5  6  7  8  9 10 11 12]\n"
     ]
    }
   ],
   "source": [
    "a = np.arange(1, 13) # 1から12までの1次元配列\n",
    "b = a.reshape(3, 4) # 1D -> 2D\n",
    "c = b.ravel() # 2D -> 1D. 3次元以上の配列も1次元に変換されます. \n",
    "print(a)\n",
    "print(b)\n",
    "print(c)"
   ]
  },
  {
   "cell_type": "markdown",
   "metadata": {},
   "source": [
    "#### 行列とベクトルの積\n",
    "\\begin{eqnarray}\n",
    "A = \\left[\n",
    " \\begin{array}{ccc}\n",
    "      1 & 2 \\\\\n",
    "      3 & 4\n",
    "    \\end{array}\n",
    "\\right], \n",
    "b = [5, 6]\n",
    "\\end{eqnarray}\n",
    "\n",
    "ndarrayでは行ベクトルと列ベクトルは同じ形を取ります. $bA$を計算する場合bは行ベクトルとして解釈され, $Ab$を計算する場合は列ベクトルとして解釈されます. "
   ]
  },
  {
   "cell_type": "code",
   "execution_count": 43,
   "metadata": {
    "collapsed": false
   },
   "outputs": [
    {
     "name": "stdout",
     "output_type": "stream",
     "text": [
      "[[0 1]\n",
      " [2 3]]\n",
      "[5 6]\n",
      "[ 6 28]\n",
      "[12 23]\n"
     ]
    }
   ],
   "source": [
    "a = np.arange(4).reshape(2, 2)\n",
    "b = np.array([5, 6])\n",
    "c = a.dot(b) # 一般にAB!=BAです. \n",
    "d = b.dot(a) # 上の行の結果と一致しません.\n",
    "print(a)\n",
    "print(b)\n",
    "print(c)\n",
    "print(d)"
   ]
  },
  {
   "cell_type": "markdown",
   "metadata": {},
   "source": [
    "#### 単位行列"
   ]
  },
  {
   "cell_type": "code",
   "execution_count": 44,
   "metadata": {
    "collapsed": false
   },
   "outputs": [
    {
     "name": "stdout",
     "output_type": "stream",
     "text": [
      "[ 5.  6.]\n",
      "[ 5.  6.]\n"
     ]
    }
   ],
   "source": [
    "a = np.eye(2)\n",
    "b = np.array([5, 6])\n",
    "print(a.dot(b)) # 単位行列を掛けても値は変化しません. \n",
    "print(b.dot(a))"
   ]
  },
  {
   "cell_type": "markdown",
   "metadata": {},
   "source": [
    "#### 行列同士の積"
   ]
  },
  {
   "cell_type": "code",
   "execution_count": 47,
   "metadata": {
    "collapsed": false
   },
   "outputs": [
    {
     "name": "stdout",
     "output_type": "stream",
     "text": [
      "[[0 1]\n",
      " [2 3]]\n",
      "[[0 1 2 3]\n",
      " [4 5 6 7]]\n",
      "[[ 4  5  6  7]\n",
      " [12 17 22 27]]\n"
     ]
    },
    {
     "ename": "ValueError",
     "evalue": "shapes (2,4) and (2,2) not aligned: 4 (dim 1) != 2 (dim 0)",
     "output_type": "error",
     "traceback": [
      "\u001b[1;31m\u001b[0m",
      "\u001b[1;31mValueError\u001b[0mTraceback (most recent call last)",
      "\u001b[1;32m<ipython-input-47-5ab5bfb7c709>\u001b[0m in \u001b[0;36m<module>\u001b[1;34m()\u001b[0m\n\u001b[0;32m      7\u001b[0m \u001b[1;33m\u001b[0m\u001b[0m\n\u001b[0;32m      8\u001b[0m \u001b[1;31m# エラー\u001b[0m\u001b[1;33m\u001b[0m\u001b[1;33m\u001b[0m\u001b[0m\n\u001b[1;32m----> 9\u001b[1;33m \u001b[0md\u001b[0m \u001b[1;33m=\u001b[0m \u001b[0mb\u001b[0m\u001b[1;33m.\u001b[0m\u001b[0mdot\u001b[0m\u001b[1;33m(\u001b[0m\u001b[0ma\u001b[0m\u001b[1;33m)\u001b[0m \u001b[1;31m# 左の行列(b)の列数と右の行列(a)の行数が一致しません.\u001b[0m\u001b[1;33m\u001b[0m\u001b[0m\n\u001b[0m",
      "\u001b[1;31mValueError\u001b[0m: shapes (2,4) and (2,2) not aligned: 4 (dim 1) != 2 (dim 0)"
     ]
    }
   ],
   "source": [
    "a = np.arange(4).reshape(2, 2)\n",
    "b = np.arange(8).reshape(2, 4)\n",
    "c = a.dot(b)\n",
    "print(a)\n",
    "print(b)\n",
    "print(c)\n",
    "\n",
    "# エラー\n",
    "d = b.dot(a) # 左の行列(b)の列数と右の行列(a)の行数が一致しません. "
   ]
  },
  {
   "cell_type": "markdown",
   "metadata": {},
   "source": [
    "#### 逆行列"
   ]
  },
  {
   "cell_type": "code",
   "execution_count": 50,
   "metadata": {
    "collapsed": false
   },
   "outputs": [
    {
     "name": "stdout",
     "output_type": "stream",
     "text": [
      "[[ 1.  1.  2.]\n",
      " [ 3.  5.  5.]\n",
      " [ 6.  7.  9.]]\n",
      "[[-2.  -1.   1. ]\n",
      " [-0.6  0.6 -0.2]\n",
      " [ 1.8  0.2 -0.4]]\n",
      "[[  1.00000000e+00  -2.22044605e-16   0.00000000e+00]\n",
      " [  0.00000000e+00   1.00000000e+00   0.00000000e+00]\n",
      " [  0.00000000e+00  -4.44089210e-16   1.00000000e+00]]\n",
      "[[  1.00000000e+00   0.00000000e+00   0.00000000e+00]\n",
      " [  0.00000000e+00   1.00000000e+00   0.00000000e+00]\n",
      " [  0.00000000e+00  -4.44089210e-16   1.00000000e+00]]\n"
     ]
    }
   ],
   "source": [
    "a = np.arange(9).reshape(3, 3) + np.eye(3)\n",
    "b = np.linalg.inv(a)\n",
    "c = a.dot(b)\n",
    "d = b.dot(a)\n",
    "print(a)\n",
    "print(b)\n",
    "print(c)\n",
    "print(d)"
   ]
  },
  {
   "cell_type": "markdown",
   "metadata": {},
   "source": [
    "## プロットの基礎"
   ]
  },
  {
   "cell_type": "markdown",
   "metadata": {},
   "source": [
    "### 散布図とグラフ"
   ]
  },
  {
   "cell_type": "code",
   "execution_count": 57,
   "metadata": {
    "collapsed": false
   },
   "outputs": [
    {
     "data": {
      "image/png": "[encoded data removed]",
      "text/plain": [
       "<matplotlib.figure.Figure at 0x7f15b781c5c0>"
      ]
     },
     "metadata": {},
     "output_type": "display_data"
    }
   ],
   "source": [
    "x = np.arange(-4, 4, 0.1)\n",
    "y = x**2 # y=x^2\n",
    "\n",
    "# Figureオブジェクトを準備します. \n",
    "fig = plt.figure(figsize=(8, 4)) # 横幅10, 縦幅5\n",
    "\n",
    "# 散布図\n",
    "ax1 = fig.add_subplot(121) # Figureオブジェクトの中にAxesオブジェクトを準備します. \n",
    "ax1.scatter(x, y, marker='.', s=10) # sはマーカーのサイズ\n",
    "\n",
    "# グラフ\n",
    "ax2 = fig.add_subplot(122) # Axesの数が1行2列, 末尾の数字はその2番目を意味します. \n",
    "ax2.plot(x, y);"
   ]
  },
  {
   "cell_type": "markdown",
   "metadata": {},
   "source": [
    "### 等高線図\n",
    "メッシュを生成し, その座標値で関数を計算してプロットします. "
   ]
  },
  {
   "cell_type": "code",
   "execution_count": 58,
   "metadata": {
    "collapsed": false
   },
   "outputs": [
    {
     "name": "stdout",
     "output_type": "stream",
     "text": [
      "(160,)\n",
      "(160,)\n",
      "(160, 160)\n",
      "(160, 160)\n",
      "[[-4.   -3.95 -3.9  -3.85 -3.8 ]\n",
      " [-4.   -3.95 -3.9  -3.85 -3.8 ]\n",
      " [-4.   -3.95 -3.9  -3.85 -3.8 ]\n",
      " [-4.   -3.95 -3.9  -3.85 -3.8 ]\n",
      " [-4.   -3.95 -3.9  -3.85 -3.8 ]]\n",
      "[[-4.   -4.   -4.   -4.   -4.  ]\n",
      " [-3.95 -3.95 -3.95 -3.95 -3.95]\n",
      " [-3.9  -3.9  -3.9  -3.9  -3.9 ]\n",
      " [-3.85 -3.85 -3.85 -3.85 -3.85]\n",
      " [-3.8  -3.8  -3.8  -3.8  -3.8 ]]\n"
     ]
    }
   ],
   "source": [
    "# メッシュの作成\n",
    "x_ = np.arange(-4, 4, 0.05)\n",
    "y_ = np.arange(-4, 4, 0.05)\n",
    "x, y = np.meshgrid(x_, y_)\n",
    "print(x_.shape)\n",
    "print(y_.shape)\n",
    "print(x.shape)\n",
    "print(y.shape)\n",
    "print(x[:5, :5])\n",
    "print(y[:5, :5])"
   ]
  },
  {
   "cell_type": "code",
   "execution_count": 59,
   "metadata": {
    "collapsed": false
   },
   "outputs": [
    {
     "name": "stdout",
     "output_type": "stream",
     "text": [
      "(160, 160)\n",
      "4.03896783473e-28 32.0\n"
     ]
    }
   ],
   "source": [
    "# 表示する関数の値の計算\n",
    "z = x**2 + y**2\n",
    "print(z.shape)\n",
    "print(z.min(), z.max())"
   ]
  },
  {
   "cell_type": "code",
   "execution_count": 80,
   "metadata": {
    "collapsed": false
   },
   "outputs": [
    {
     "data": {
      "image/png": "[encoded data removed]",
      "text/plain": [
       "<matplotlib.figure.Figure at 0x7f15aefc1908>"
      ]
     },
     "metadata": {},
     "output_type": "display_data"
    }
   ],
   "source": [
    "fig = plt.figure(figsize=(9, 4))\n",
    "\n",
    "# 等高線図\n",
    "plt.jet() # jetカラーマップ\n",
    "ax1 = fig.add_subplot(121)\n",
    "ax1.contour(x, y, z, 10) # 最後の数値は等高線の数です. \n",
    "\n",
    "plt.hot() # hotカラーマップ\n",
    "ax2 = fig.add_subplot(122)\n",
    "h = ax2.pcolor(x, y, z)\n",
    "plt.colorbar(h);"
   ]
  },
  {
   "cell_type": "code",
   "execution_count": null,
   "metadata": {
    "collapsed": true
   },
   "outputs": [],
   "source": []
  }
 ],
 "metadata": {
  "kernelspec": {
   "display_name": "Python 3",
   "language": "python",
   "name": "python3"
  },
  "language_info": {
   "codemirror_mode": {
    "name": "ipython",
    "version": 3
   },
   "file_extension": ".py",
   "mimetype": "text/x-python",
   "name": "python",
   "nbconvert_exporter": "python",
   "pygments_lexer": "ipython3",
   "version": "3.5.1"
  },
  "widgets": {
   "state": {},
   "version": "1.1.1"
  }
 },
 "nbformat": 4,
 "nbformat_minor": 0
}
