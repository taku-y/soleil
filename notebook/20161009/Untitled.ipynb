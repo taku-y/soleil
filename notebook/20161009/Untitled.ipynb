{
 "cells": [
  {
   "cell_type": "code",
   "execution_count": 2,
   "metadata": {
    "collapsed": false,
    "slideshow": {
     "slide_type": "skip"
    }
   },
   "outputs": [
    {
     "data": {
      "application/javascript": [
       "IPython.notebook.set_autosave_interval(0)"
      ]
     },
     "metadata": {},
     "output_type": "display_data"
    },
    {
     "name": "stdout",
     "output_type": "stream",
     "text": [
      "Autosave disabled\n"
     ]
    },
    {
     "data": {
      "text/plain": [
       "{'height': 800,\n",
       " 'scroll': True,\n",
       " 'start_slideshow_at': 'selected',\n",
       " 'theme': 'sky',\n",
       " 'transition': 'scroll',\n",
       " 'width': 1200}"
      ]
     },
     "execution_count": 2,
     "metadata": {},
     "output_type": "execute_result"
    }
   ],
   "source": [
    "%autosave 0\n",
    "%matplotlib inline\n",
    "import sys, os\n",
    "sys.path.insert(0, os.path.expanduser('~/work/git/github/pymc-devs/pymc3'))\n",
    "\n",
    "import pandas as pd\n",
    "\n",
    "# スライドのための設定\n",
    "from traitlets.config.manager import BaseJSONConfigManager\n",
    "path = os.path.expanduser('~/.jupyter/nbconfig') # \"/home/damian/miniconda3/envs/rise_latest/etc/jupyter/nbconfig\"\n",
    "cm = BaseJSONConfigManager(config_dir=path)\n",
    "cm.update('livereveal', {\n",
    "              'theme': 'sky',\n",
    "              'transition': 'scroll',\n",
    "              'start_slideshow_at': 'selected',\n",
    "})\n",
    "\n",
    "cm.update('livereveal', {\n",
    "              'width': 1200,\n",
    "              'height': 800,\n",
    "})\n",
    "\n",
    "cm.update('livereveal', {\n",
    "              'scroll': True,\n",
    "})"
   ]
  },
  {
   "cell_type": "markdown",
   "metadata": {},
   "source": [
    "<br />\n",
    "\n",
    "<div style=\"text-align: center;\">\n",
    "<font size=\"7\"><b>PyMC3による階層ベイズ回帰</b></font>\n",
    "</div>\n",
    "<br />\n",
    "<br />\n",
    "<br />\n",
    "<br />\n",
    "<div style=\"text-align: right;\">\n",
    "<font size=\"6\">吉岡琢</font>\n",
    "</div>\n",
    "\n",
    "<br />"
   ]
  },
  {
   "cell_type": "markdown",
   "metadata": {
    "slideshow": {
     "slide_type": "slide"
    }
   },
   "source": [
    "# ベイズ推定\n",
    "$$\n",
    "p(\\theta|D)=\\frac{p(D,\\theta)}{p(D)}=\\frac{p(D|\\theta)p(\\theta)}{p(D)}\n",
    "$$\n",
    "* データ$D$から推定されたモデルパラメータ$\\theta$の事後分布を推定する方法. \n",
    "\n",
    "## 階層ベイズ\n",
    "$$\n",
    "p(\\theta_{0},\\theta|D)=\\frac{p(D,\\theta,\\theta_{0})}{p(D)}=\\frac{p(D|\\theta)p(\\theta|\\theta_{0})p(\\theta_{0})}{p(D)}\n",
    "$$\n",
    "* 事前分布を階層化した階層事前分布を用いる方法. \n"
   ]
  },
  {
   "cell_type": "markdown",
   "metadata": {
    "slideshow": {
     "slide_type": "slide"
    }
   },
   "source": [
    "# PyMC3\n",
    "* ベイズ推定を簡単に実行できるPythonライブラリです. \n",
    "* 最近 :code:`pip` でインストールできるようになりました. \n",
    "* 事後分布にしたがうモデルパラメータのサンプルが得られます. "
   ]
  },
  {
   "cell_type": "markdown",
   "metadata": {
    "slideshow": {
     "slide_type": "slide"
    }
   },
   "source": [
    "## 例：予測分布\n",
    "$$\n",
    "p(d|D)=\\int p(d|\\theta)p(\\theta|D)d\\theta\\sim\\frac{1}{M}\\sum_{m=1}^{M}p(d|\\theta^{m})\n",
    "$$\n",
    "* 予測分布の計算に必要なサンプル$\\theta^{m}\\sim p(\\theta|D)$がPyMC3に実装されたサンプリングアルゴリズム（MCMC）により得られます. \n",
    "\n",
    "    * Metropolis, Gibbs sampling, Hamiltonian MC, NUTS\n",
    "    \n",
    "* 同様の方法で予測分布の平均も計算できます. "
   ]
  },
  {
   "cell_type": "markdown",
   "metadata": {
    "slideshow": {
     "slide_type": "slide"
    }
   },
   "source": [
    "# ここで取り上げる問題\n",
    "* PyMC3の開発者Thomas Wieckiさんのブログより引用しました. \n",
    "\n",
    "    * http://twiecki.github.io/blog/2014/03/17/bayesian-glms-3/"
   ]
  },
  {
   "cell_type": "markdown",
   "metadata": {
    "slideshow": {
     "slide_type": "slide"
    }
   },
   "source": [
    "# データ\n",
    "![Image](http://www.fix-your-radon.com/images/how_radon_enters.jpg)\n",
    "* 説明変数：家がある地域, 地下の有無\n",
    "* 従属変数：家で計測されたラドンの量"
   ]
  },
  {
   "cell_type": "markdown",
   "metadata": {
    "slideshow": {
     "slide_type": "slide"
    }
   },
   "source": [
    "## データのロード"
   ]
  },
  {
   "cell_type": "code",
   "execution_count": 4,
   "metadata": {
    "collapsed": false,
    "slideshow": {
     "slide_type": "fragment"
    }
   },
   "outputs": [],
   "source": [
    "data = pd.read_csv(os.path.expanduser('~/work/git/github/pymc-devs/pymc3/docs/source/data/radon.csv'))\n",
    "county_names = data.county.unique()\n",
    "county_idx = data['county_code'].values\n",
    "n_counties = len(county_names)"
   ]
  },
  {
   "cell_type": "code",
   "execution_count": 5,
   "metadata": {
    "collapsed": false,
    "slideshow": {
     "slide_type": "fragment"
    }
   },
   "outputs": [
    {
     "data": {
      "text/html": [
       "<div>\n",
       "<table border=\"1\" class=\"dataframe\">\n",
       "  <thead>\n",
       "    <tr style=\"text-align: right;\">\n",
       "      <th></th>\n",
       "      <th>county</th>\n",
       "      <th>log_radon</th>\n",
       "      <th>floor</th>\n",
       "    </tr>\n",
       "  </thead>\n",
       "  <tbody>\n",
       "    <tr>\n",
       "      <th>0</th>\n",
       "      <td>AITKIN</td>\n",
       "      <td>0.832909</td>\n",
       "      <td>1.0</td>\n",
       "    </tr>\n",
       "    <tr>\n",
       "      <th>1</th>\n",
       "      <td>AITKIN</td>\n",
       "      <td>0.832909</td>\n",
       "      <td>0.0</td>\n",
       "    </tr>\n",
       "    <tr>\n",
       "      <th>2</th>\n",
       "      <td>AITKIN</td>\n",
       "      <td>1.098612</td>\n",
       "      <td>0.0</td>\n",
       "    </tr>\n",
       "    <tr>\n",
       "      <th>3</th>\n",
       "      <td>AITKIN</td>\n",
       "      <td>0.095310</td>\n",
       "      <td>0.0</td>\n",
       "    </tr>\n",
       "    <tr>\n",
       "      <th>4</th>\n",
       "      <td>ANOKA</td>\n",
       "      <td>1.163151</td>\n",
       "      <td>0.0</td>\n",
       "    </tr>\n",
       "  </tbody>\n",
       "</table>\n",
       "</div>"
      ],
      "text/plain": [
       "   county  log_radon  floor\n",
       "0  AITKIN   0.832909    1.0\n",
       "1  AITKIN   0.832909    0.0\n",
       "2  AITKIN   1.098612    0.0\n",
       "3  AITKIN   0.095310    0.0\n",
       "4   ANOKA   1.163151    0.0"
      ]
     },
     "execution_count": 5,
     "metadata": {},
     "output_type": "execute_result"
    }
   ],
   "source": [
    "data[['county', 'log_radon', 'floor']].head()"
   ]
  },
  {
   "cell_type": "markdown",
   "metadata": {
    "slideshow": {
     "slide_type": "slide"
    }
   },
   "source": [
    "# 回帰モデル\n",
    "$$\n",
    "radon_{i,c} = \\alpha_{c} + \\beta_{c}\\cdot floor_{i,c} + \\epsilon_{c}\n",
    "$$\n",
    "\n",
    "* $i$：家のインデックス\n",
    "* $c$：地域のインデックス\n",
    "* $radon_{i,c}$：地域$c$の$i$番目の家（サンプル）のラドンの量\n",
    "* $\\alpha_{c}$：地域$c$の回帰モデルの切片\n",
    "* $\\beta_{c}$：地域$c$の回帰モデルの回帰係数\n",
    "* $floor_{i,c}$：地域$c$の$i$番目の家に地下室があれば1, 無ければ0\n",
    "* $\\epsilon_{c}$：ノイズ"
   ]
  },
  {
   "cell_type": "markdown",
   "metadata": {
    "collapsed": true,
    "slideshow": {
     "slide_type": "slide"
    }
   },
   "source": [
    "# モデル1：地域ごとに回帰\n",
    "![Image](http://f.cl.ly/items/38020n2t2Y2b1p3t0B0e/Screen%20Shot%202013-10-10%20at%208.23.36%20AM.png)\n",
    "\n",
    "$$\n",
    "\\alpha_{c}\\sim{\\cal N}(0,100) \\\\\n",
    "\\beta_{c}\\sim{\\cal N}(0,100)\n",
    "$$\n",
    "* 各地域のモデルパラメータは独立した事前分布を持ちます."
   ]
  },
  {
   "cell_type": "markdown",
   "metadata": {
    "slideshow": {
     "slide_type": "slide"
    }
   },
   "source": [
    "# モデル2：階層ベイズ回帰\n",
    "<img src=\"http://f.cl.ly/items/1B3U223i002y3V2W3r0W/Screen%20Shot%202013-10-10%20at%208.25.05%20AM.png\" width=\"512\" align=\"center\"/>\n",
    "\n",
    "$$\n",
    "\\mu_{c}\\sim{\\cal N}(0, 100)\\\\\n",
    "\\sigma_{c}\\sim{\\rm Uniform}(0, 100)\\\\\n",
    "\\alpha_{c}\\sim{\\cal N}(\\mu_{\\alpha},\\sigma_{\\alpha}) \\\\\n",
    "\\beta_{c}\\sim{\\cal N}(\\mu_{\\beta},\\sigma_{\\beta})\n",
    "$$\n",
    "* 各地域のモデルパラメータは独立した事前分布を持ちます. \n",
    "* ただし事前分布のパラメータに対する事前分布は共通です. "
   ]
  },
  {
   "cell_type": "markdown",
   "metadata": {
    "slideshow": {
     "slide_type": "slide"
    }
   },
   "source": [
    "# モデル1のコード"
   ]
  },
  {
   "cell_type": "code",
   "execution_count": null,
   "metadata": {
    "collapsed": false,
    "slideshow": {
     "slide_type": "fragment"
    }
   },
   "outputs": [],
   "source": [
    "import pymc3 as pm\n",
    "\n",
    "indiv_traces = {}\n",
    "for county_name in county_names:\n",
    "    c_data = data.ix[data.county == county_name]\n",
    "    c_log_radon = c_data.log_radon\n",
    "    c_floor_measure = c_data.floor.values\n",
    "    \n",
    "    with pm.Model() as individual_model:\n",
    "        a = pm.Normal('alpha', mu=0, sd=100**2)\n",
    "        b = pm.Normal('beta', mu=0, sd=100**2)\n",
    "        eps = pm.Uniform('eps', lower=0, upper=100)\n",
    "    \n",
    "        radon_est = a + b * c_floor_measure\n",
    "        radon_like = pm.Normal('radon_like', mu=radon_est, sd=eps, observed=c_log_radon)\n",
    "\n",
    "        step = pm.NUTS()\n",
    "        trace = pm.sample(2000, step=step, progressbar=False)\n",
    "    \n",
    "    # この変数に, p(\\theta|D)にしたがうサンプルが含まれます. \n",
    "    indiv_traces[county_name] = trace"
   ]
  },
  {
   "cell_type": "markdown",
   "metadata": {
    "slideshow": {
     "slide_type": "slide"
    }
   },
   "source": [
    "# モデル2のコード"
   ]
  },
  {
   "cell_type": "code",
   "execution_count": null,
   "metadata": {
    "collapsed": true,
    "slideshow": {
     "slide_type": "fragment"
    }
   },
   "outputs": [],
   "source": [
    "with pm.Model() as hierarchical_model:\n",
    "    # Hyperpriors for group nodes\n",
    "    mu_a = pm.Normal('mu_alpha', mu=0., sd=100**2)\n",
    "    sigma_a = pm.Uniform('sigma_alpha', lower=0, upper=100)\n",
    "    mu_b = pm.Normal('mu_beta', mu=0., sd=100**2)\n",
    "    sigma_b = pm.Uniform('sigma_beta', lower=0, upper=100)\n",
    "    \n",
    "    a = pm.Normal('alpha', mu=mu_a, sd=sigma_a, shape=n_counties)\n",
    "    b = pm.Normal('beta', mu=mu_b, sd=sigma_b, shape=n_counties)\n",
    "    eps = pm.Uniform('eps', lower=0, upper=100)\n",
    "    \n",
    "    radon_est = a[county_idx] + b[county_idx] * data.floor.values\n",
    "    radon_like = pm.Normal('radon_like', mu=radon_est, sd=eps, observed=data.log_radon)"
   ]
  },
  {
   "cell_type": "markdown",
   "metadata": {
    "slideshow": {
     "slide_type": "slide"
    }
   },
   "source": [
    "# サンプリング結果\n",
    "![Image](Unknown.png)"
   ]
  },
  {
   "cell_type": "markdown",
   "metadata": {
    "slideshow": {
     "slide_type": "slide"
    }
   },
   "source": [
    "# サンプリング結果の評価\n",
    "* 収束性：サンプリングの時系列を見てトレンドがないことを確認します. \n",
    "* Posterior predictive check：$p(\\theta|D)$から得られたサンプルによる予測と観測データの平均誤差を計算する方法です. \n",
    "\n",
    "## 結果\n",
    "* 非階層モデルの平均誤差：0.13\n",
    "* 階層モデルの平均誤差：0.08"
   ]
  },
  {
   "cell_type": "markdown",
   "metadata": {
    "slideshow": {
     "slide_type": "slide"
    }
   },
   "source": [
    "# 推定結果の違い\n",
    "![Image](Unknown2.png)"
   ]
  }
 ],
 "metadata": {
  "celltoolbar": "Slideshow",
  "kernelspec": {
   "display_name": "Python 3",
   "language": "python",
   "name": "python3"
  },
  "language_info": {
   "codemirror_mode": {
    "name": "ipython",
    "version": 3
   },
   "file_extension": ".py",
   "mimetype": "text/x-python",
   "name": "python",
   "nbconvert_exporter": "python",
   "pygments_lexer": "ipython3",
   "version": "3.5.2"
  },
  "nav_menu": {},
  "toc": {
   "navigate_menu": true,
   "number_sections": false,
   "sideBar": true,
   "threshold": 6,
   "toc_cell": false,
   "toc_section_display": "block",
   "toc_window_display": true
  }
 },
 "nbformat": 4,
 "nbformat_minor": 0
}
